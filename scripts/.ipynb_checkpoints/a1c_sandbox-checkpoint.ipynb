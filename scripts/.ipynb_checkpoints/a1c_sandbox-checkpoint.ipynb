{
 "cells": [
  {
   "cell_type": "code",
   "execution_count": 1,
   "id": "fe99705a",
   "metadata": {},
   "outputs": [],
   "source": [
    "import ftplib"
   ]
  },
  {
   "cell_type": "code",
   "execution_count": 2,
   "id": "651e27cc",
   "metadata": {},
   "outputs": [],
   "source": [
    "HOSTNAME = 'ftp2.census.gov'\n",
    "USERNAME = 'anonymous'\n",
    "PASSWORD = 'anonymous'"
   ]
  },
  {
   "cell_type": "code",
   "execution_count": 3,
   "id": "a46f6d30",
   "metadata": {},
   "outputs": [],
   "source": [
    "ftp_server = ftplib.FTP(HOSTNAME, USERNAME, PASSWORD)"
   ]
  },
  {
   "cell_type": "code",
   "execution_count": 5,
   "id": "07bf4038",
   "metadata": {},
   "outputs": [
    {
     "name": "stdout",
     "output_type": "stream",
     "text": [
      "-rw-rw-r--    1 hanno304 i-geo      155808 Aug 08  2018 2018_TL_Shapefiles_File_Name_Definitions.pdf\n",
      "drwxrwsr-x    2 889      i-geo      139264 Sep 17  2018 ADDR\n",
      "drwxrwsr-x    2 889      i-geo      167936 Sep 17  2018 ADDRFEAT\n",
      "drwxrwsr-x    2 889      i-geo      139264 Sep 17  2018 ADDRFN\n",
      "drwxrwsr-x    2 889      i-geo        4096 Sep 17  2018 AIANNH\n",
      "drwxrwsr-x    2 889      i-geo        4096 Sep 17  2018 AITSN\n",
      "drwxrwsr-x    2 889      i-geo        4096 Sep 17  2018 ANRC\n",
      "drwxrwsr-x    2 889      i-geo        4096 Sep 17  2018 AREALM\n",
      "drwxrwsr-x    2 889      i-geo      172032 Sep 17  2018 AREAWATER\n",
      "drwxrwsr-x    2 889      i-geo        4096 Sep 17  2018 BG\n",
      "drwxrwsr-x    2 889      i-geo        4096 Sep 17  2018 CBSA\n",
      "drwxrwsr-x    2 889      i-geo        4096 Sep 17  2018 CD\n",
      "drwxrwsr-x    2 889      i-geo        4096 Sep 17  2018 CNECTA\n",
      "drwxrwsr-x    2 889      i-geo        4096 Sep 17  2018 COASTLINE\n",
      "drwxrwsr-x    2 889      i-geo        4096 Sep 17  2018 CONCITY\n",
      "drwxrwsr-x    2 889      i-geo        4096 Sep 17  2018 COUNTY\n",
      "drwxrwsr-x    2 889      i-geo        4096 Sep 17  2018 COUSUB\n",
      "drwxrwsr-x    2 889      i-geo        4096 Sep 17  2018 CSA\n",
      "drwxrwsr-x    2 889      i-geo      135168 Sep 17  2018 EDGES\n",
      "drwxrwsr-x    2 889      i-geo        4096 Sep 17  2018 ELSD\n",
      "drwxrwsr-x    2 889      i-geo        4096 Sep 17  2018 ESTATE\n",
      "drwxrwsr-x    2 889      i-geo      139264 Sep 17  2018 FACES\n",
      "drwxrwsr-x    2 889      i-geo      172032 Sep 17  2018 FACESAH\n",
      "drwxrwsr-x    2 889      i-geo        4096 Sep 17  2018 FACESAL\n",
      "drwxrwsr-x    2 889      i-geo        4096 Sep 17  2018 FACESMIL\n",
      "drwxrwsr-x    2 889      i-geo      180224 Sep 17  2018 FEATNAMES\n",
      "drwxrwsr-x    2 889      i-geo      200704 Sep 17  2018 LINEARWATER\n",
      "drwxrwsr-x    2 889      i-geo        4096 Sep 17  2018 METDIV\n",
      "drwxrwsr-x    2 889      i-geo        4096 Sep 17  2018 MIL\n",
      "drwxrwsr-x    2 889      i-geo        4096 Sep 17  2018 NECTA\n",
      "drwxrwsr-x    2 889      i-geo        4096 Sep 17  2018 NECTADIV\n",
      "drwxrwsr-x    2 889      i-geo        4096 Sep 17  2018 PLACE\n",
      "drwxrwsr-x    2 889      i-geo        4096 Sep 17  2018 POINTLM\n",
      "drwxrwsr-x    2 889      i-geo        4096 Sep 17  2018 PRIMARYROADS\n",
      "drwxrwsr-x    2 889      i-geo        4096 Sep 17  2018 PRISECROADS\n",
      "drwxrwsr-x    2 889      i-geo        4096 Sep 17  2018 PUMA\n",
      "drwxrwsr-x    2 889      i-geo        4096 Sep 17  2018 RAILS\n",
      "drwxrwsr-x    2 889      i-geo      143360 Sep 17  2018 ROADS\n",
      "drwxrwsr-x    2 889      i-geo        4096 Sep 17  2018 SCSD\n",
      "drwxrwsr-x    2 889      i-geo        4096 Sep 17  2018 SLDL\n",
      "drwxrwsr-x    2 889      i-geo        4096 Sep 17  2018 SLDU\n",
      "drwxrwsr-x    2 889      i-geo        4096 Sep 17  2018 STATE\n",
      "drwxrwsr-x    2 889      i-geo        4096 Sep 17  2018 SUBMCD\n",
      "drwxrwsr-x    2 889      i-geo        4096 Sep 17  2018 TABBLOCK\n",
      "drwxrwsr-x    2 889      i-geo        4096 Sep 17  2018 TBG\n",
      "drwxrwsr-x    2 889      i-geo        4096 Sep 17  2018 TRACT\n",
      "drwxrwsr-x    2 889      i-geo        4096 Sep 17  2018 TTRACT\n",
      "drwxrwsr-x    2 889      i-geo        4096 Sep 17  2018 UAC\n",
      "drwxrwsr-x    2 889      i-geo        4096 Sep 17  2018 UNSD\n",
      "drwxrwsr-x    2 889      i-geo        4096 Sep 17  2018 ZCTA5\n"
     ]
    },
    {
     "data": {
      "text/plain": [
       "'250 Directory successfully changed.'"
      ]
     },
     "execution_count": 5,
     "metadata": {},
     "output_type": "execute_result"
    }
   ],
   "source": [
    "ftp_server.dir()"
   ]
  },
  {
   "cell_type": "code",
   "execution_count": null,
   "id": "2bfe5fad",
   "metadata": {},
   "outputs": [],
   "source": [
    "ftp_server.cwd('/geo/tiger/TIGER2018')"
   ]
  }
 ],
 "metadata": {
  "kernelspec": {
   "display_name": "Python 3 (ipykernel)",
   "language": "python",
   "name": "python3"
  },
  "language_info": {
   "codemirror_mode": {
    "name": "ipython",
    "version": 3
   },
   "file_extension": ".py",
   "mimetype": "text/x-python",
   "name": "python",
   "nbconvert_exporter": "python",
   "pygments_lexer": "ipython3",
   "version": "3.10.4"
  }
 },
 "nbformat": 4,
 "nbformat_minor": 5
}
