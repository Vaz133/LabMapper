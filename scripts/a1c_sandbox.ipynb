{
 "cells": [
  {
   "cell_type": "code",
   "execution_count": 1,
   "id": "fe99705a",
   "metadata": {},
   "outputs": [],
   "source": [
    "import ftplib"
   ]
  },
  {
   "cell_type": "code",
   "execution_count": 2,
   "id": "947e1711",
   "metadata": {},
   "outputs": [],
   "source": [
    "HOSTNAME = 'ftp2.census.gov'\n",
    "USERNAME = 'anonymous'\n",
    "PASSWORD = 'anonymous'"
   ]
  },
  {
   "cell_type": "code",
   "execution_count": 3,
   "id": "bf0d2f42",
   "metadata": {},
   "outputs": [],
   "source": [
    "ftp_server = ftplib.FTP(HOSTNAME, USERNAME, PASSWORD)"
   ]
  },
  {
   "cell_type": "code",
   "execution_count": 4,
   "id": "342c2a98",
   "metadata": {},
   "outputs": [
    {
     "name": "stdout",
     "output_type": "stream",
     "text": [
      "drwxrwsr-x    2 844      i-admin      4096 Feb 18  2020 2020Census\n",
      "lrwxrwxrwx    1 844      i-admin        17 Jan 24  2014 AOA -> /acstabs/docs/AOA\n",
      "lrwxrwxrwx    1 844      i-admin        18 Dec 19  2018 CTPP -> /acstabs/docs/CTPP\n",
      "drwxrwsr-x   15 844      i-acstabs     4096 Nov 28 21:14 EEO_2006_2010\n",
      "drwxrwsr-x    6 844      i-acso       4096 Dec 30 16:34 EEO_2014_2018\n",
      "drwxrwsr-x    6 844      i-acstabs     4096 Mar 22 14:33 EEO_Disability_2008-2010\n",
      "drwxrwsr-x    4 844      i-epcd       4096 Apr 27  2011 Econ2001_And_Earlier\n",
      "drwxrwsr-x   19 844      i-cnmp       4096 Mar 11 12:00 about\n",
      "drwxrwsr-x    5 844      i-acso       4096 Nov 09  2021 acs\n",
      "drwxrwsr-x    6 844      i-acso       4096 Nov 10  2020 acs2002\n",
      "drwxrwsr-x    5 844      i-acso       4096 Oct 06  2004 acs2003\n",
      "drwxrwsr-x    5 dang0004 i-acso       4096 Feb 02  2006 acs2004\n",
      "drwxrwsr-x    3 695      i-acso       4096 Nov 28  2017 acs2005\n",
      "lrwxrwxrwx    1 844      i-acso         11 Jan 24  2014 acs2005_2007_3yr -> acs2007_3yr\n",
      "lrwxrwxrwx    1 844      i-acso         11 Jan 24  2014 acs2005_2009_5yr -> acs2009_5yr\n",
      "drwxrwsr-x    4 695      i-acso       4096 Aug 25  2015 acs2006\n",
      "lrwxrwxrwx    1 844      i-acso         11 Jan 24  2014 acs2006_2008_3yr -> acs2008_3yr\n",
      "drwxrwsr-x    3 695      i-acso       4096 Aug 25  2015 acs2007_1yr\n",
      "lrwxrwxrwx    1 844      i-acso         12 Jan 24  2014 acs2007_2009_3yr -> acs2009_3yr/\n",
      "drwxrwsr-x    3 844      i-acso       4096 Aug 25  2015 acs2007_3yr\n",
      "drwxrwsr-x    3 695      i-acso       4096 Aug 25  2015 acs2008_1yr\n",
      "drwxrwsr-x    3 695      i-acso       4096 Aug 25  2015 acs2008_3yr\n",
      "drwxrwsr-x    3 695      i-acso       4096 Aug 25  2015 acs2009_1yr\n",
      "drwxrwsr-x    3 844      i-acso       4096 Aug 25  2015 acs2009_3yr\n",
      "drwxrwsr-x    3 844      i-acso       4096 Aug 25  2015 acs2009_5yr\n",
      "drwxrwsr-x    3 844      i-acso       4096 May 23  2015 acs2010_1yr\n",
      "drwxrwsr-x    3 844      i-acso       4096 May 23  2015 acs2010_3yr\n",
      "drwxrwsr-x    3 844      i-acso       4096 May 23  2015 acs2010_5yr\n",
      "drwxrwsr-x    4 844      i-acso       4096 Apr 04  2012 acs2010_SPT_AIAN\n",
      "drwxrwsr-x    4 844      i-acso       4096 May 24  2015 acs2011_1yr\n",
      "drwxrwsr-x    3 844      i-acso       4096 May 24  2015 acs2011_3yr\n",
      "drwxrwsr-x    3 844      i-acso       4096 May 24  2015 acs2011_5yr\n",
      "drwxrwsr-x    3 844      i-acso       4096 May 24  2015 acs2012_1yr\n",
      "drwxrwsr-x    3 844      i-acso       4096 May 24  2015 acs2012_3yr\n",
      "drwxrwsr-x    3 844      i-admin      4096 May 24  2015 acs2012_5yr\n",
      "drwxrwsr-x    3 844      i-admin      4096 May 24  2015 acs2013_1yr\n",
      "drwxrwsr-x    3 844      i-admin      4096 May 24  2015 acs2013_3yr\n",
      "drwxrwsr-x    3 844      i-admin      4096 May 24  2015 acs2013_5yr\n",
      "lrwxrwxrwx    1 844      i-admin        20 Jul 22  2016 acs_latest_data -> programs-surveys/acs\n",
      "drwxrwsr-x    3 844      i-acso       4096 Mar 31  2008 acs_special_tabs\n",
      "drwxrwsr-x   10 844      i-adrm       4096 Apr 22  2021 adrm\n",
      "-rw-rw-r--    1 844      i-admin      8347 Feb 08  2013 akamai-sureroute-test-object.htm\n",
      "drwxrwsr-x    5 844      i-cnmp       4096 Dec 27  2016 cac\n",
      "drwxrwsr-x    2 844      i-adrm       4096 Apr 16  2019 census_1940\n",
      "drwxrwsr-x   10 stewa338 i-acsd       4096 Apr 04  2017 census_1980\n",
      "drwxrwsr-x  103 stewa338 i-acsd       4096 Jan 11  2017 census_1990\n",
      "drwxrwsr-x    5 stewa338 i-acsd       4096 Jun 29  2020 census_2000\n",
      "drwxrwsr-x   17 844      i-acs-dec     4096 May 23  2019 census_2010\n",
      "drwxrwsr-x   12 844      i-ces        4096 Dec 23 08:57 ces\n",
      "drwxrwsr-x    4 844      i-cnmp       4096 Dec 23 10:03 data\n",
      "drwxrwsr-x    7 moren004 i-admin      4096 Jan 28  2019 decennial\n",
      "drwxrws---    2 844      i-dis        4096 Feb 25  2013 doe\n",
      "drwx--S---    2 844      i-admin      4096 Jan 27  2014 does\n",
      "drwxrwsr-x    3 844      i-admin      4096 Sep 29  2014 dssd\n",
      "drwxrwsr-x   10 844      i-admin      4096 Dec 22 10:51 econ\n",
      "drwxrwsr-x    6 844      i-epcd       4096 Jun 02  2011 econ1977\n",
      "drwxrwsr-x    6 844      i-epcd       4096 Jun 02  2011 econ1982\n",
      "drwxrwsr-x   17 844      i-epcd       4096 Jun 02  2011 econ1987\n",
      "drwxrwsr-x   20 844      i-epcd       4096 Apr 26  2011 econ1992\n",
      "drwxrwsr-x    4 844      i-epcd       4096 Sep 15  2020 econ1997\n",
      "drwxrwsr-x   10 844      i-epcd       4096 Jun 27  2012 econ2002\n",
      "drwxrwsr-x    6 844      i-epcd       4096 Jun 27  2012 econ2003\n",
      "drwxrwsr-x    8 844      i-epcd       4096 Jun 27  2012 econ2004\n",
      "drwxrwsr-x    8 844      i-epcd       4096 Jun 27  2012 econ2005\n",
      "drwxrwsr-x    8 844      i-epcd       4096 Jun 27  2012 econ2006\n",
      "drwxrwsr-x   12 844      i-epcd       4096 May 14  2013 econ2007\n",
      "drwxrwsr-x    8 844      i-epcd       4096 Jun 23  2010 econ2008\n",
      "drwxrwsr-x    8 844      i-epcd       4096 Jun 09  2011 econ2009\n",
      "drwxrwsr-x    8 844      i-epcd       4096 Sep 25  2012 econ2010\n",
      "drwxrwsr-x    8 844      i-epcd       4096 May 28  2013 econ2011\n",
      "drwxrwsr-x   14 844      i-epcd       4096 Sep 15  2016 econ2012\n",
      "drwxrwsr-x   13 844      i-epcd       4096 Jun 06  2017 econ2013\n",
      "drwxrwsr-x   14 844      i-epcd       4096 Dec 05  2016 econ2014\n",
      "drwxrwsr-x   13 844      i-epcd       4096 May 24  2018 econ2015\n",
      "drwxrwsr-x   12 844      i-epcd       4096 Jul 11  2019 econ2016\n",
      "drwxrwsr-x    4 844      i-epcd       4096 Jun 20  2019 econ2017\n",
      "drwx--S---    2 844      i-admin      4096 Jan 27  2014 exist\n",
      "-rw-rw-r--    1 844      i-admin       318 May 15  2001 favicon.ico\n",
      "drwxrwsr-x   13 844      i-policy     4096 Feb 27  2015 foia\n",
      "drwxrwsr-x   10 844      i-geo        4096 Jan 03 11:34 geo\n",
      "drwxrwsr-x   27 844      i-govs       4096 Aug 23  2016 govs\n",
      "drwxrwsr-x    4 844      i-dis        4096 Oct 09  2014 hhes\n",
      "lrwxrwxrwx    1 844      i-admin        12 Jan 24  2014 inc -> pub/incoming\n",
      "lrwxrwxrwx    1 844      i-admin        12 Jan 24  2014 incoming -> pub/incoming\n",
      "drwxrwsr-x   12 844      i-cnmp       4096 Apr 26  2017 indicators\n",
      "drwxrwsr-x   11 844      i-cnmp       4096 Aug 06  2019 library\n",
      "drwxrwsr-x    2 0        0            4096 Nov 21  2005 lost+found\n",
      "drwxrwsr-x    7 844      i-admin      4096 May 16 15:08 main\n",
      "drwxrwsr-x    6 844      i-media      4096 Mar 10 14:36 media\n",
      "drwx--S---    2 844      i-admin      4096 Jan 27  2014 mount\n",
      "drwxrwsr-x    4 844      i-mrtr      16384 Nov 15  2016 mtis\n",
      "-rw-rw-r--    1 0        i-admin         0 Nov 21  2013 mytouch\n",
      "drwxrwsr-x    6 844      i-cnmp       4096 Oct 13  2020 news\n",
      "drwx--S---    2 844      i-admin      4096 Jan 27  2014 not\n",
      "lrwxrwxrwx    1 844      i-admin        12 Jan 24  2014 outgoing -> pub/outgoing\n",
      "drwxrwsr-x    5 844      i-geo        4096 Jul 11  2003 plmap\n",
      "drwxrwsr-x   36 844      i-acsd       4096 Feb 18 15:42 prod2\n",
      "drwxrwsr-x  110 844      i-cnmp       4096 May 02 16:13 programs-surveys\n",
      "drwxrwsr-x    4 844      i-admin      4096 Aug 04  2020 pub\n",
      "-rw-rw-r--    1 0        i-admin         0 Mar 28  2011 qwertyuiop.test\n",
      "drwxrwsr-x    4 844      i-retail     4096 May 07  2009 retail\n",
      "-rw-rw-r--    1 844      i-admin       478 Sep 03  2019 robots.txt\n",
      "dr-xrws---    2 844      i-admin      4096 Mar 28  2012 sam\n",
      "drwxrwsr-x    7 844      i-services     4096 Jan 11  2016 services\n",
      "drwxrwsr-x   11 844      i-cnmp       4096 Oct 14  2021 software\n",
      "drwxrwsr-x    2 844      i-admin      4096 Feb 16 08:12 testsynch\n",
      "drwxrwsr-x    4 17950    i-admin      4096 May 25 06:20 tms_data\n",
      "drwxrwsr-x   22 844      i-cnmp       4096 Dec 23 09:19 topics\n",
      "drwxr-sr-x    2 844      i-ftd        4096 Nov 14  2013 trade\n",
      "drwxrwsr-x    2 bruno005 i-admin      4096 Jan 30  2009 w3c\n",
      "drwxrwsr-x    8 844      i-mwts       4096 Jun 09  2017 wholesale\n"
     ]
    }
   ],
   "source": [
    "ftp_server.dir()"
   ]
  },
  {
   "cell_type": "code",
   "execution_count": 5,
   "id": "37f7180a",
   "metadata": {},
   "outputs": [
    {
     "data": {
      "text/plain": [
       "'250 Directory successfully changed.'"
      ]
     },
     "execution_count": 5,
     "metadata": {},
     "output_type": "execute_result"
    }
   ],
   "source": [
    "ftp_server.cwd('/geo/tiger/TIGER2018')"
   ]
  },
  {
   "cell_type": "code",
   "execution_count": 6,
   "id": "24932794",
   "metadata": {},
   "outputs": [
    {
     "name": "stdout",
     "output_type": "stream",
     "text": [
      "-rw-rw-r--    1 hanno304 i-geo      155808 Aug 08  2018 2018_TL_Shapefiles_File_Name_Definitions.pdf\n",
      "drwxrwsr-x    2 889      i-geo      139264 Sep 17  2018 ADDR\n",
      "drwxrwsr-x    2 889      i-geo      167936 Sep 17  2018 ADDRFEAT\n",
      "drwxrwsr-x    2 889      i-geo      139264 Sep 17  2018 ADDRFN\n",
      "drwxrwsr-x    2 889      i-geo        4096 Sep 17  2018 AIANNH\n",
      "drwxrwsr-x    2 889      i-geo        4096 Sep 17  2018 AITSN\n",
      "drwxrwsr-x    2 889      i-geo        4096 Sep 17  2018 ANRC\n",
      "drwxrwsr-x    2 889      i-geo        4096 Sep 17  2018 AREALM\n",
      "drwxrwsr-x    2 889      i-geo      172032 Sep 17  2018 AREAWATER\n",
      "drwxrwsr-x    2 889      i-geo        4096 Sep 17  2018 BG\n",
      "drwxrwsr-x    2 889      i-geo        4096 Sep 17  2018 CBSA\n",
      "drwxrwsr-x    2 889      i-geo        4096 Sep 17  2018 CD\n",
      "drwxrwsr-x    2 889      i-geo        4096 Sep 17  2018 CNECTA\n",
      "drwxrwsr-x    2 889      i-geo        4096 Sep 17  2018 COASTLINE\n",
      "drwxrwsr-x    2 889      i-geo        4096 Sep 17  2018 CONCITY\n",
      "drwxrwsr-x    2 889      i-geo        4096 Sep 17  2018 COUNTY\n",
      "drwxrwsr-x    2 889      i-geo        4096 Sep 17  2018 COUSUB\n",
      "drwxrwsr-x    2 889      i-geo        4096 Sep 17  2018 CSA\n",
      "drwxrwsr-x    2 889      i-geo      135168 Sep 17  2018 EDGES\n",
      "drwxrwsr-x    2 889      i-geo        4096 Sep 17  2018 ELSD\n",
      "drwxrwsr-x    2 889      i-geo        4096 Sep 17  2018 ESTATE\n",
      "drwxrwsr-x    2 889      i-geo      139264 Sep 17  2018 FACES\n",
      "drwxrwsr-x    2 889      i-geo      172032 Sep 17  2018 FACESAH\n",
      "drwxrwsr-x    2 889      i-geo        4096 Sep 17  2018 FACESAL\n",
      "drwxrwsr-x    2 889      i-geo        4096 Sep 17  2018 FACESMIL\n",
      "drwxrwsr-x    2 889      i-geo      180224 Sep 17  2018 FEATNAMES\n",
      "drwxrwsr-x    2 889      i-geo      200704 Sep 17  2018 LINEARWATER\n",
      "drwxrwsr-x    2 889      i-geo        4096 Sep 17  2018 METDIV\n",
      "drwxrwsr-x    2 889      i-geo        4096 Sep 17  2018 MIL\n",
      "drwxrwsr-x    2 889      i-geo        4096 Sep 17  2018 NECTA\n",
      "drwxrwsr-x    2 889      i-geo        4096 Sep 17  2018 NECTADIV\n",
      "drwxrwsr-x    2 889      i-geo        4096 Sep 17  2018 PLACE\n",
      "drwxrwsr-x    2 889      i-geo        4096 Sep 17  2018 POINTLM\n",
      "drwxrwsr-x    2 889      i-geo        4096 Sep 17  2018 PRIMARYROADS\n",
      "drwxrwsr-x    2 889      i-geo        4096 Sep 17  2018 PRISECROADS\n",
      "drwxrwsr-x    2 889      i-geo        4096 Sep 17  2018 PUMA\n",
      "drwxrwsr-x    2 889      i-geo        4096 Sep 17  2018 RAILS\n",
      "drwxrwsr-x    2 889      i-geo      143360 Sep 17  2018 ROADS\n",
      "drwxrwsr-x    2 889      i-geo        4096 Sep 17  2018 SCSD\n",
      "drwxrwsr-x    2 889      i-geo        4096 Sep 17  2018 SLDL\n",
      "drwxrwsr-x    2 889      i-geo        4096 Sep 17  2018 SLDU\n",
      "drwxrwsr-x    2 889      i-geo        4096 Sep 17  2018 STATE\n",
      "drwxrwsr-x    2 889      i-geo        4096 Sep 17  2018 SUBMCD\n",
      "drwxrwsr-x    2 889      i-geo        4096 Sep 17  2018 TABBLOCK\n",
      "drwxrwsr-x    2 889      i-geo        4096 Sep 17  2018 TBG\n",
      "drwxrwsr-x    2 889      i-geo        4096 Sep 17  2018 TRACT\n",
      "drwxrwsr-x    2 889      i-geo        4096 Sep 17  2018 TTRACT\n",
      "drwxrwsr-x    2 889      i-geo        4096 Sep 17  2018 UAC\n",
      "drwxrwsr-x    2 889      i-geo        4096 Sep 17  2018 UNSD\n",
      "drwxrwsr-x    2 889      i-geo        4096 Sep 17  2018 ZCTA5\n"
     ]
    }
   ],
   "source": [
    "ftp_server.dir()"
   ]
  }
 ],
 "metadata": {
  "kernelspec": {
   "display_name": "Python 3 (ipykernel)",
   "language": "python",
   "name": "python3"
  },
  "language_info": {
   "codemirror_mode": {
    "name": "ipython",
    "version": 3
   },
   "file_extension": ".py",
   "mimetype": "text/x-python",
   "name": "python",
   "nbconvert_exporter": "python",
   "pygments_lexer": "ipython3",
   "version": "3.10.4"
  }
 },
 "nbformat": 4,
 "nbformat_minor": 5
}
